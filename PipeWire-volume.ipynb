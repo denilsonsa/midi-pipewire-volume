{
 "cells": [
  {
   "cell_type": "code",
   "execution_count": 19,
   "id": "1636cc08-8ef3-4f4f-97eb-21f56000dd83",
   "metadata": {},
   "outputs": [
    {
     "name": "stdout",
     "output_type": "stream",
     "text": [
      "<backend mido.backends.rtmidi (loaded)>\n"
     ]
    }
   ],
   "source": [
    "import json\n",
    "import os\n",
    "import re\n",
    "import subprocess\n",
    "import types\n",
    "\n",
    "from collections import abc\n",
    "from functools import cached_property, partial\n",
    "from itertools import chain\n",
    "from pprint import pprint\n",
    "from time import sleep\n",
    "\n",
    "# pip install 'mido[ports-rtmidi]'\n",
    "import mido\n",
    "print(mido.backend)\n",
    "# If this backend doesn't work for you, try another one:\n",
    "# https://mido.readthedocs.io/en/stable/backends/index.html#choice\n",
    "\n",
    "# pip install tabulate\n",
    "from tabulate import tabulate"
   ]
  },
  {
   "cell_type": "code",
   "execution_count": 2,
   "id": "1e1dbd51-e874-4a42-bff9-4ec740bbcc8d",
   "metadata": {},
   "outputs": [],
   "source": [
    "from pypewyre import PWDump, PWState, PWObject, volume_to_linear, volume_from_linear"
   ]
  },
  {
   "cell_type": "markdown",
   "id": "e914bf58-9785-4ad5-b7da-3cf98cea9484",
   "metadata": {
    "jp-MarkdownHeadingCollapsed": true
   },
   "source": [
    "## Exploration and learning"
   ]
  },
  {
   "cell_type": "code",
   "execution_count": 2,
   "id": "872cecf3-5f7a-4f55-8a71-1168e0e34559",
   "metadata": {},
   "outputs": [],
   "source": [
    "def pw_dump():\n",
    "    p = subprocess.run(['pw-dump', '--no-colors'], capture_output=True)\n",
    "    return json.loads(p.stdout)"
   ]
  },
  {
   "cell_type": "code",
   "execution_count": 3,
   "id": "2165bb0b-4321-4e74-a978-8429fbc721fc",
   "metadata": {},
   "outputs": [],
   "source": [
    "RE_AUDIO_SOURCE_SINK = re.compile(r\"^Audio/(Source|Sink)\")\n",
    "\n",
    "def pw_filter(dump:list, id:set=None, type:str=None, media_class:re.Pattern=None):\n",
    "    if type is not None and \":\" not in type:\n",
    "        # For convenience, let's this prefix.\n",
    "        type = \"PipeWire:Interface:\" + type\n",
    "        # PipeWire:Interface:Client\n",
    "        # PipeWire:Interface:Core\n",
    "        # PipeWire:Interface:Device\n",
    "        # PipeWire:Interface:Factory\n",
    "        # PipeWire:Interface:Link\n",
    "        # PipeWire:Interface:Metadata\n",
    "        # PipeWire:Interface:Module\n",
    "        # PipeWire:Interface:Node\n",
    "        # PipeWire:Interface:Port\n",
    "        # PipeWire:Interface:Profiler\n",
    "\n",
    "    for obj in dump:\n",
    "        if id is not None:\n",
    "            if not (obj[\"id\"] in id):\n",
    "                continue\n",
    "        if type is not None:\n",
    "            if not (obj[\"type\"] == type):\n",
    "                continue\n",
    "        if media_class is not None:\n",
    "            if not media_class.match(obj[\"info\"][\"props\"].get(\"media.class\", \"\")):\n",
    "                continue\n",
    "        yield obj"
   ]
  },
  {
   "cell_type": "code",
   "execution_count": 362,
   "id": "c8c035b6-9d45-4825-8233-c1c2713447c7",
   "metadata": {},
   "outputs": [
    {
     "data": {
      "text/plain": [
       "134"
      ]
     },
     "execution_count": 362,
     "metadata": {},
     "output_type": "execute_result"
    }
   ],
   "source": [
    "tmp = pw_dump()\n",
    "len(tmp)"
   ]
  },
  {
   "cell_type": "code",
   "execution_count": 363,
   "id": "e057a3d9-0d63-410e-9cc3-8c7fcdb1aacf",
   "metadata": {},
   "outputs": [
    {
     "name": "stdout",
     "output_type": "stream",
     "text": [
      "PipeWire:Interface:Client\n",
      "PipeWire:Interface:Core\n",
      "PipeWire:Interface:Device\n",
      "PipeWire:Interface:Factory\n",
      "PipeWire:Interface:Link\n",
      "PipeWire:Interface:Metadata\n",
      "PipeWire:Interface:Module\n",
      "PipeWire:Interface:Node\n",
      "PipeWire:Interface:Port\n",
      "PipeWire:Interface:Profiler\n"
     ]
    }
   ],
   "source": [
    "print(\"\\n\".join(sorted(set(x[\"type\"] for x in tmp))))"
   ]
  },
  {
   "cell_type": "code",
   "execution_count": 364,
   "id": "381a9f2b-d7e8-42df-9891-24b38a4c049e",
   "metadata": {},
   "outputs": [
    {
     "name": "stdout",
     "output_type": "stream",
     "text": [
      "?\n",
      "Audio/Device\n",
      "Audio/Sink\n",
      "Audio/Source\n",
      "Audio/Source/Virtual\n",
      "Midi/Bridge\n",
      "Stream/Input/Audio\n",
      "Stream/Output/Audio\n",
      "Video/Device\n",
      "Video/Source\n"
     ]
    }
   ],
   "source": [
    "print(\"\\n\".join(sorted(set(x.get(\"info\", {}).get(\"props\", {}).get(\"media.class\", \"?\") for x in tmp))))"
   ]
  },
  {
   "cell_type": "code",
   "execution_count": 365,
   "id": "33f7ad79-b79a-4ffe-8b82-371772848d55",
   "metadata": {},
   "outputs": [
    {
     "name": "stdout",
     "output_type": "stream",
     "text": [
      "?\n",
      "Audio/Sink\n",
      "Audio/Source\n",
      "Audio/Source/Virtual\n",
      "Midi/Bridge\n",
      "Stream/Input/Audio\n",
      "Stream/Output/Audio\n",
      "Video/Source\n"
     ]
    }
   ],
   "source": [
    "print(\"\\n\".join(sorted(set(x[\"info\"][\"props\"].get(\"media.class\", \"?\") for x in pw_filter(tmp, type=\"Node\")))))"
   ]
  },
  {
   "cell_type": "code",
   "execution_count": 366,
   "id": "1604be02-4732-49c5-8d52-83589161c345",
   "metadata": {
    "scrolled": true
   },
   "outputs": [
    {
     "data": {
      "text/plain": [
       "19"
      ]
     },
     "execution_count": 366,
     "metadata": {},
     "output_type": "execute_result"
    }
   ],
   "source": [
    "tmp = list(pw_filter(tmp, type=\"Node\"))\n",
    "len(tmp)"
   ]
  },
  {
   "cell_type": "code",
   "execution_count": 9,
   "id": "0a0fdbb1-09c9-40b4-b211-31a7bcb5d480",
   "metadata": {
    "scrolled": true
   },
   "outputs": [
    {
     "data": {
      "text/plain": [
       "10"
      ]
     },
     "execution_count": 9,
     "metadata": {},
     "output_type": "execute_result"
    }
   ],
   "source": [
    "tmp = list(pw_filter(tmp, media_class=RE_AUDIO_SOURCE_SINK))\n",
    "len(tmp)"
   ]
  },
  {
   "cell_type": "code",
   "execution_count": 10,
   "id": "a2711c9a-39e8-4a56-a06c-f1cbb1a46186",
   "metadata": {},
   "outputs": [
    {
     "data": {
      "text/html": [
       "<table>\n",
       "<tbody>\n",
       "<tr><td>Audio/Sink          </td><td style=\"text-align: right;\">30</td><td style=\"text-align: right;\">30</td><td>Null Stereo Output                            </td><td>N/A                            </td><td>N/A</td><td>[ FL FR ]</td><td>[1.0, 1.0]          </td><td>[1.0, 1.0]    </td><td>False</td><td>False</td></tr>\n",
       "<tr><td>Audio/Sink          </td><td style=\"text-align: right;\">60</td><td style=\"text-align: right;\">60</td><td>Built-in Audio Analog Stereo                  </td><td>ALC221 Analog                  </td><td>2  </td><td>FL,FR    </td><td>[0.0, 0.0]          </td><td>[0.0, 0.0]    </td><td>False</td><td>False</td></tr>\n",
       "<tr><td>Audio/Sink          </td><td style=\"text-align: right;\">61</td><td style=\"text-align: right;\">61</td><td>Built-in Audio Digital Stereo (HDMI)          </td><td>Q27P1B                         </td><td>2  </td><td>FL,FR    </td><td>[0.008, 0.008]      </td><td>[0.008, 0.008]</td><td>False</td><td>False</td></tr>\n",
       "<tr><td>Audio/Sink          </td><td style=\"text-align: right;\">62</td><td style=\"text-align: right;\">62</td><td>Built-in Audio Digital Stereo (HDMI 2)        </td><td>Q27P1B                         </td><td>2  </td><td>FL,FR    </td><td>[0.0, 0.0]          </td><td>[0.0, 0.0]    </td><td>True </td><td>True </td></tr>\n",
       "<tr><td>Audio/Sink          </td><td style=\"text-align: right;\">63</td><td style=\"text-align: right;\">63</td><td>Built-in Audio Digital Stereo (HDMI 3)        </td><td>HDMI 2                         </td><td>2  </td><td>FL,FR    </td><td>[1.0, 1.0]          </td><td>[1.0, 1.0]    </td><td>False</td><td>False</td></tr>\n",
       "<tr><td>Audio/Sink          </td><td style=\"text-align: right;\">97</td><td style=\"text-align: right;\">97</td><td>Aeropex by AfterShokz                         </td><td>N/A                            </td><td>N/A</td><td>N/A      </td><td>[0.019188, 0.019188]</td><td>[1.0, 1.0]    </td><td>False</td><td>False</td></tr>\n",
       "<tr><td>Audio/Source        </td><td style=\"text-align: right;\">58</td><td style=\"text-align: right;\">58</td><td>Creative Live! Cam Sync 1080p V2 Analog Stereo</td><td>Creative Live! Cam Sync 1080p V</td><td>2  </td><td>FL,FR    </td><td>[0.0, 0.0]          </td><td>[0.0, 0.0]    </td><td>False</td><td>False</td></tr>\n",
       "<tr><td>Audio/Source        </td><td style=\"text-align: right;\">59</td><td style=\"text-align: right;\">59</td><td>Logitech USB Microphone Mono                  </td><td>Logitech USB Microphone        </td><td>1  </td><td>MONO     </td><td>[1.0]               </td><td>[1.0]         </td><td>False</td><td>False</td></tr>\n",
       "<tr><td>Audio/Source        </td><td style=\"text-align: right;\">64</td><td style=\"text-align: right;\">64</td><td>Built-in Audio Analog Stereo                  </td><td>ALC221 Analog                  </td><td>2  </td><td>FL,FR    </td><td>[1.0, 1.0]          </td><td>[1.0, 1.0]    </td><td>False</td><td>False</td></tr>\n",
       "<tr><td>Audio/Source/Virtual</td><td style=\"text-align: right;\">31</td><td style=\"text-align: right;\">31</td><td>Null Mono Input                               </td><td>N/A                            </td><td>N/A</td><td>[ MONO ] </td><td>[1.0]               </td><td>[1.0]         </td><td>False</td><td>False</td></tr>\n",
       "</tbody>\n",
       "</table>"
      ],
      "text/plain": [
       "'<table>\\n<tbody>\\n<tr><td>Audio/Sink          </td><td style=\"text-align: right;\">30</td><td style=\"text-align: right;\">30</td><td>Null Stereo Output                            </td><td>N/A                            </td><td>N/A</td><td>[ FL FR ]</td><td>[1.0, 1.0]          </td><td>[1.0, 1.0]    </td><td>False</td><td>False</td></tr>\\n<tr><td>Audio/Sink          </td><td style=\"text-align: right;\">60</td><td style=\"text-align: right;\">60</td><td>Built-in Audio Analog Stereo                  </td><td>ALC221 Analog                  </td><td>2  </td><td>FL,FR    </td><td>[0.0, 0.0]          </td><td>[0.0, 0.0]    </td><td>False</td><td>False</td></tr>\\n<tr><td>Audio/Sink          </td><td style=\"text-align: right;\">61</td><td style=\"text-align: right;\">61</td><td>Built-in Audio Digital Stereo (HDMI)          </td><td>Q27P1B                         </td><td>2  </td><td>FL,FR    </td><td>[0.008, 0.008]      </td><td>[0.008, 0.008]</td><td>False</td><td>False</td></tr>\\n<tr><td>Audio/Sink          </td><td style=\"text-align: right;\">62</td><td style=\"text-align: right;\">62</td><td>Built-in Audio Digital Stereo (HDMI 2)        </td><td>Q27P1B                         </td><td>2  </td><td>FL,FR    </td><td>[0.0, 0.0]          </td><td>[0.0, 0.0]    </td><td>True </td><td>True </td></tr>\\n<tr><td>Audio/Sink          </td><td style=\"text-align: right;\">63</td><td style=\"text-align: right;\">63</td><td>Built-in Audio Digital Stereo (HDMI 3)        </td><td>HDMI 2                         </td><td>2  </td><td>FL,FR    </td><td>[1.0, 1.0]          </td><td>[1.0, 1.0]    </td><td>False</td><td>False</td></tr>\\n<tr><td>Audio/Sink          </td><td style=\"text-align: right;\">97</td><td style=\"text-align: right;\">97</td><td>Aeropex by AfterShokz                         </td><td>N/A                            </td><td>N/A</td><td>N/A      </td><td>[0.019188, 0.019188]</td><td>[1.0, 1.0]    </td><td>False</td><td>False</td></tr>\\n<tr><td>Audio/Source        </td><td style=\"text-align: right;\">58</td><td style=\"text-align: right;\">58</td><td>Creative Live! Cam Sync 1080p V2 Analog Stereo</td><td>Creative Live! Cam Sync 1080p V</td><td>2  </td><td>FL,FR    </td><td>[0.0, 0.0]          </td><td>[0.0, 0.0]    </td><td>False</td><td>False</td></tr>\\n<tr><td>Audio/Source        </td><td style=\"text-align: right;\">59</td><td style=\"text-align: right;\">59</td><td>Logitech USB Microphone Mono                  </td><td>Logitech USB Microphone        </td><td>1  </td><td>MONO     </td><td>[1.0]               </td><td>[1.0]         </td><td>False</td><td>False</td></tr>\\n<tr><td>Audio/Source        </td><td style=\"text-align: right;\">64</td><td style=\"text-align: right;\">64</td><td>Built-in Audio Analog Stereo                  </td><td>ALC221 Analog                  </td><td>2  </td><td>FL,FR    </td><td>[1.0, 1.0]          </td><td>[1.0, 1.0]    </td><td>False</td><td>False</td></tr>\\n<tr><td>Audio/Source/Virtual</td><td style=\"text-align: right;\">31</td><td style=\"text-align: right;\">31</td><td>Null Mono Input                               </td><td>N/A                            </td><td>N/A</td><td>[ MONO ] </td><td>[1.0]               </td><td>[1.0]         </td><td>False</td><td>False</td></tr>\\n</tbody>\\n</table>'"
      ]
     },
     "execution_count": 10,
     "metadata": {},
     "output_type": "execute_result"
    }
   ],
   "source": [
    "tabulate(sorted([\n",
    "    (\n",
    "        x[\"info\"][\"props\"].get(\"media.class\", \"N/A\"),\n",
    "        x[\"id\"],\n",
    "        x[\"info\"][\"props\"].get(\"object.id\", \"N/A\"),\n",
    "        #x[\"info\"][\"props\"].get(\"node.name\", \"N/A\"),\n",
    "        x[\"info\"][\"props\"].get(\"node.description\", \"N/A\"),\n",
    "        x[\"info\"][\"props\"].get(\"node.nick\", \"N/A\"),\n",
    "        x[\"info\"][\"props\"].get(\"audio.channels\", \"N/A\"),  # Sometimes unset.\n",
    "        x[\"info\"][\"props\"].get(\"audio.position\", \"N/A\"),\n",
    "        #x[\"info\"][\"params\"].get(\"Props\", [])[0].get(\"volume\", \"N/A\"),  # Useless, always 1.\n",
    "        x[\"info\"][\"params\"].get(\"Props\", [])[0].get(\"channelVolumes\", \"N/A\"),\n",
    "        x[\"info\"][\"params\"].get(\"Props\", [])[0].get(\"softVolumes\", \"N/A\"),\n",
    "        x[\"info\"][\"params\"].get(\"Props\", [])[0].get(\"mute\", \"N/A\"),\n",
    "        x[\"info\"][\"params\"].get(\"Props\", [])[0].get(\"softMute\", \"N/A\"),\n",
    "        #x[\"info\"][\"params\"].get(\"Props\", [])[0].get(\"monitorMute\", \"N/A\"),\n",
    "        #x[\"info\"][\"params\"].get(\"Props\", [])[0].get(\"monitorVolumes\", \"N/A\"),\n",
    "    )\n",
    "    for x in tmp\n",
    "]), tablefmt=\"html\")"
   ]
  },
  {
   "cell_type": "code",
   "execution_count": 13,
   "id": "07a514a3-e3fb-49c6-b7cd-9ed092a7da6d",
   "metadata": {},
   "outputs": [
    {
     "data": {
      "text/plain": [
       "(0.125, 0.5)"
      ]
     },
     "execution_count": 13,
     "metadata": {},
     "output_type": "execute_result"
    }
   ],
   "source": [
    "volume_from_linear(0.5), volume_to_linear(volume_from_linear(0.5))"
   ]
  },
  {
   "cell_type": "code",
   "execution_count": 12,
   "id": "c7d59649-c67c-4d77-b807-cf5778870941",
   "metadata": {},
   "outputs": [],
   "source": [
    "def terrible_get_volume(ids:set):\n",
    "    for obj in pw_filter(pw_dump(), id=ids):\n",
    "        yield(\n",
    "            obj[\"info\"][\"params\"].get(\"Props\", [])[0].get(\"volume\", \"N/A\"),\n",
    "            obj[\"info\"][\"params\"].get(\"Props\", [])[0].get(\"channelVolumes\", \"N/A\"),\n",
    "            obj[\"info\"][\"params\"].get(\"Props\", [])[0].get(\"softVolumes\", \"N/A\"),\n",
    "            volume_to_linear(obj[\"info\"][\"params\"].get(\"Props\", [])[0].get(\"channelVolumes\", \"N/A\")),\n",
    "            volume_to_linear(obj[\"info\"][\"params\"].get(\"Props\", [])[0].get(\"softVolumes\", \"N/A\")),\n",
    "            obj[\"info\"][\"params\"].get(\"Props\", [])[0].get(\"mute\", \"N/A\"),\n",
    "            obj[\"info\"][\"params\"].get(\"Props\", [])[0].get(\"softMute\", \"N/A\"),\n",
    "            obj[\"info\"][\"params\"].get(\"Props\", [])[0].get(\"monitorMute\", \"N/A\"),\n",
    "            obj[\"info\"][\"params\"].get(\"Props\", [])[0].get(\"monitorVolumes\", \"N/A\"),\n",
    "        )"
   ]
  },
  {
   "cell_type": "code",
   "execution_count": 14,
   "id": "b8d80fd7-f3d0-44a5-89b5-6d31419212f3",
   "metadata": {},
   "outputs": [
    {
     "data": {
      "text/html": [
       "<table>\n",
       "<tbody>\n",
       "<tr><td style=\"text-align: right;\">1</td><td>[1.0, 1.0]          </td><td>[1.0, 1.0]    </td><td>[1.0, 1.0]                              </td><td>[1.0, 1.0]</td><td>False</td><td>False</td><td>False</td><td>[1.0, 1.0]</td></tr>\n",
       "<tr><td style=\"text-align: right;\">1</td><td>[0.008, 0.008]      </td><td>[0.008, 0.008]</td><td>[0.2, 0.2]                              </td><td>[0.2, 0.2]</td><td>False</td><td>False</td><td>False</td><td>[1.0, 1.0]</td></tr>\n",
       "<tr><td style=\"text-align: right;\">1</td><td>[0.0, 0.0]          </td><td>[0.0, 0.0]    </td><td>[0, 0]                                  </td><td>[0, 0]    </td><td>True </td><td>True </td><td>False</td><td>[1.0, 1.0]</td></tr>\n",
       "<tr><td style=\"text-align: right;\">1</td><td>[0.019188, 0.019188]</td><td>[1.0, 1.0]    </td><td>[0.2677173823275574, 0.2677173823275574]</td><td>[1.0, 1.0]</td><td>False</td><td>False</td><td>False</td><td>[1.0, 1.0]</td></tr>\n",
       "</tbody>\n",
       "</table>"
      ],
      "text/plain": [
       "'<table>\\n<tbody>\\n<tr><td style=\"text-align: right;\">1</td><td>[1.0, 1.0]          </td><td>[1.0, 1.0]    </td><td>[1.0, 1.0]                              </td><td>[1.0, 1.0]</td><td>False</td><td>False</td><td>False</td><td>[1.0, 1.0]</td></tr>\\n<tr><td style=\"text-align: right;\">1</td><td>[0.008, 0.008]      </td><td>[0.008, 0.008]</td><td>[0.2, 0.2]                              </td><td>[0.2, 0.2]</td><td>False</td><td>False</td><td>False</td><td>[1.0, 1.0]</td></tr>\\n<tr><td style=\"text-align: right;\">1</td><td>[0.0, 0.0]          </td><td>[0.0, 0.0]    </td><td>[0, 0]                                  </td><td>[0, 0]    </td><td>True </td><td>True </td><td>False</td><td>[1.0, 1.0]</td></tr>\\n<tr><td style=\"text-align: right;\">1</td><td>[0.019188, 0.019188]</td><td>[1.0, 1.0]    </td><td>[0.2677173823275574, 0.2677173823275574]</td><td>[1.0, 1.0]</td><td>False</td><td>False</td><td>False</td><td>[1.0, 1.0]</td></tr>\\n</tbody>\\n</table>'"
      ]
     },
     "execution_count": 14,
     "metadata": {},
     "output_type": "execute_result"
    }
   ],
   "source": [
    "tabulate(\n",
    "    terrible_get_volume({30, 61, 62, 97})\n",
    ", tablefmt=\"html\")"
   ]
  },
  {
   "cell_type": "code",
   "execution_count": 16,
   "id": "8faa53cc-72a3-49eb-87dd-5bad6a2358eb",
   "metadata": {},
   "outputs": [],
   "source": [
    "# This works for setting the volume of applications (Stream/Input/Audio and Stream/Output/Audio).\n",
    "def terrible_set_volume(id, channels=None, linear:float=None, raw:float=None):\n",
    "    # TODO: Support \"mute\".\n",
    "    # TODO: Support specific channels.\n",
    "    if linear is None and raw is None:\n",
    "        raise ValueError(\"Exactly one of `linear` and `raw` parameters should be given, and none were passed.\")\n",
    "    if linear is not None and raw is not None:\n",
    "        raise ValueError(\"Exactly one of `linear` and `raw` parameters should be given, and both were passed.\")\n",
    "\n",
    "    obj = next(pw_filter(pw_dump(), id={id}))\n",
    "    channelVolumes = obj[\"info\"][\"params\"].get(\"Props\", [])[0].get(\"channelVolumes\")\n",
    "\n",
    "    if raw is None:\n",
    "        raw = volume_from_linear(linear)\n",
    "\n",
    "    assert raw is not None\n",
    "    raw = max(0.0, raw)\n",
    "\n",
    "    props = {}\n",
    "\n",
    "    if False:  # TODO: Mute\n",
    "        props[\"mute\"] = False\n",
    "\n",
    "    props[\"channelVolumes\"] = [raw for i in channelVolumes]\n",
    "    #props[\"softVolumes\"] = props[\"channelVolumes\"]\n",
    "\n",
    "    print(json.dumps(props))\n",
    "\n",
    "    subprocess.run(\n",
    "        [\"pw-cli\", \"set-param\", str(id), \"Props\", json.dumps(props)]\n",
    "    )"
   ]
  },
  {
   "cell_type": "code",
   "execution_count": 159,
   "id": "0da7b190-628f-45f7-968f-f6bd8b35554d",
   "metadata": {},
   "outputs": [
    {
     "name": "stdout",
     "output_type": "stream",
     "text": [
      "{\"channelVolumes\": [1.0, 1.0]}\n",
      "Object: size 40, type Spa:Pod:Object:Param:Props (262146), id Spa:Enum:ParamId:Props (2)\n",
      "  Prop: key Spa:Pod:Object:Param:Props:channelVolumes (65544), flags 00000000\n",
      "    Array: child.size 4, child.type Spa:Float\n",
      "      Float 1,000000\n",
      "      Float 1,000000\n"
     ]
    }
   ],
   "source": [
    "terrible_set_volume(122, linear=1.0)"
   ]
  },
  {
   "cell_type": "code",
   "execution_count": 17,
   "id": "e5d342ca-c87a-48c8-a51f-70e2f89ee83e",
   "metadata": {},
   "outputs": [],
   "source": [
    "# This works for setting the volume of devices/ports (Audio Sinks and Sources).\n",
    "def terrible2_set_volume(id, *, channels:set=None, linear:float=None, raw:float=None, mute:bool=None):\n",
    "    # Ideas:\n",
    "    # * Get rid of \"raw\". No one cares. And it simplifies the code a lot.\n",
    "    # * Pass the volume as either:\n",
    "    #     * float: applies to all channels, e.g. 0.50\n",
    "    #     * dict: applies to each channel, e.g. { \"FR\": 0.50, \"FL\": 0.25 }\n",
    "    # * Pass two volume parameters: one for relative amounts, another for absolute amounts.\n",
    "    # * For relative amounts, also pass an optional limit (that clamps to 100%).\n",
    "    # * Range is still from 0.0 to 1.0 mapping from 0% to 100%.\n",
    "    if mute is None:\n",
    "        if linear is None and raw is None:\n",
    "            raise ValueError(\"Exactly one of `linear` and `raw` parameters should be given, and none were passed.\")\n",
    "        if linear is not None and raw is not None:\n",
    "            raise ValueError(\"Exactly one of `linear` and `raw` parameters should be given, and both were passed.\")\n",
    "\n",
    "    if raw is None and linear is not None:\n",
    "        raw = volume_from_linear(linear)\n",
    "    if raw is not None:\n",
    "        raw = max(0.0, raw)\n",
    "\n",
    "    dump = pw_dump()\n",
    "    obj = next(pw_filter(dump, id={id}))\n",
    "    device_id = obj[\"info\"][\"props\"][\"device.id\"]\n",
    "    dev = next(pw_filter(dump, id={device_id}))\n",
    "\n",
    "    for route in dev[\"info\"][\"params\"][\"Route\"]:\n",
    "        if all(x in route for x in [\"info\", \"props\", \"device\", \"index\"]):\n",
    "            route_index = route[\"index\"]\n",
    "            route_device = route[\"device\"]\n",
    "            route_props = route[\"props\"]\n",
    "            break\n",
    "    else:\n",
    "        raise RuntimeError(\"Could not find the route for node {} device {}\".format(id, device_id))\n",
    "\n",
    "    # pw-cli s <device-id> Route '{ index: <route-index>, device: <card-profile-device>, props: { mute: false, channelVolumes: [ 0.5, 0.5 ] }, save: true }'\n",
    "\n",
    "    channelVolumes = route_props[\"channelVolumes\"]\n",
    "    channelMap = route_props[\"channelMap\"]\n",
    "\n",
    "    props = {}\n",
    "\n",
    "    if mute is not None:\n",
    "        props[\"mute\"] = mute\n",
    "    if raw is not None:\n",
    "        newVolumes = [\n",
    "            raw if channels is None or ch_name in channels else old_vol\n",
    "            for (ch_name, old_vol) in zip(channelMap, channelVolumes)\n",
    "        ]\n",
    "        props[\"channelVolumes\"] = newVolumes\n",
    "\n",
    "    new_value = {\n",
    "        \"index\": route_index,\n",
    "        \"device\": route_device,\n",
    "        \"props\": props,\n",
    "        \"save\": True,\n",
    "    }\n",
    "    pprint(json.dumps(new_value))\n",
    "\n",
    "    subprocess.run(\n",
    "        [\"pw-cli\", \"set-param\", str(device_id), \"Route\", json.dumps(new_value)]\n",
    "    )"
   ]
  },
  {
   "cell_type": "code",
   "execution_count": 141,
   "id": "db9c2d81-5480-4f90-a9e6-0253cced4a10",
   "metadata": {
    "scrolled": true
   },
   "outputs": [
    {
     "name": "stdout",
     "output_type": "stream",
     "text": [
      "('{\"index\": 1, \"device\": 1, \"props\": {\"mute\": false, \"channelVolumes\": '\n",
      " '[0.0010000000000000002, 0.091125]}, \"save\": true}')\n",
      "Object: size 160, type Spa:Pod:Object:Param:Route (262153), id Spa:Enum:ParamId:Route (13)\n",
      "  Prop: key Spa:Pod:Object:Param:Route:index (1), flags 00000000\n",
      "    Int 1\n",
      "  Prop: key Spa:Pod:Object:Param:Route:device (3), flags 00000000\n",
      "    Int 1\n",
      "  Prop: key Spa:Pod:Object:Param:Route:props (10), flags 00000000\n",
      "    Object: size 64, type Spa:Pod:Object:Param:Props (262146), id Spa:Enum:ParamId:Route (13)\n",
      "      Prop: key Spa:Pod:Object:Param:Props:mute (65540), flags 00000000\n",
      "        Bool false\n",
      "      Prop: key Spa:Pod:Object:Param:Props:channelVolumes (65544), flags 00000000\n",
      "        Array: child.size 4, child.type Spa:Float\n",
      "          Float 0,001000\n",
      "          Float 0,091125\n",
      "  Prop: key Spa:Pod:Object:Param:Route:save (13), flags 00000000\n",
      "    Bool true\n",
      "('{\"index\": 1, \"device\": 1, \"props\": {\"mute\": true, \"channelVolumes\": '\n",
      " '[0.0033749999999999995, 0.091125]}, \"save\": true}')\n",
      "Object: size 160, type Spa:Pod:Object:Param:Route (262153), id Spa:Enum:ParamId:Route (13)\n",
      "  Prop: key Spa:Pod:Object:Param:Route:index (1), flags 00000000\n",
      "    Int 1\n",
      "  Prop: key Spa:Pod:Object:Param:Route:device (3), flags 00000000\n",
      "    Int 1\n",
      "  Prop: key Spa:Pod:Object:Param:Route:props (10), flags 00000000\n",
      "    Object: size 64, type Spa:Pod:Object:Param:Props (262146), id Spa:Enum:ParamId:Route (13)\n",
      "      Prop: key Spa:Pod:Object:Param:Props:mute (65540), flags 00000000\n",
      "        Bool true\n",
      "      Prop: key Spa:Pod:Object:Param:Props:channelVolumes (65544), flags 00000000\n",
      "        Array: child.size 4, child.type Spa:Float\n",
      "          Float 0,003375\n",
      "          Float 0,091125\n",
      "  Prop: key Spa:Pod:Object:Param:Route:save (13), flags 00000000\n",
      "    Bool true\n",
      "('{\"index\": 1, \"device\": 1, \"props\": {\"mute\": false, \"channelVolumes\": '\n",
      " '[0.008000000000000002, 0.091125]}, \"save\": true}')\n",
      "Object: size 160, type Spa:Pod:Object:Param:Route (262153), id Spa:Enum:ParamId:Route (13)\n",
      "  Prop: key Spa:Pod:Object:Param:Route:index (1), flags 00000000\n",
      "    Int 1\n",
      "  Prop: key Spa:Pod:Object:Param:Route:device (3), flags 00000000\n",
      "    Int 1\n",
      "  Prop: key Spa:Pod:Object:Param:Route:props (10), flags 00000000\n",
      "    Object: size 64, type Spa:Pod:Object:Param:Props (262146), id Spa:Enum:ParamId:Route (13)\n",
      "      Prop: key Spa:Pod:Object:Param:Props:mute (65540), flags 00000000\n",
      "        Bool false\n",
      "      Prop: key Spa:Pod:Object:Param:Props:channelVolumes (65544), flags 00000000\n",
      "        Array: child.size 4, child.type Spa:Float\n",
      "          Float 0,008000\n",
      "          Float 0,091125\n",
      "  Prop: key Spa:Pod:Object:Param:Route:save (13), flags 00000000\n",
      "    Bool true\n",
      "('{\"index\": 1, \"device\": 1, \"props\": {\"mute\": true, \"channelVolumes\": '\n",
      " '[0.015625, 0.091125]}, \"save\": true}')\n",
      "Object: size 160, type Spa:Pod:Object:Param:Route (262153), id Spa:Enum:ParamId:Route (13)\n",
      "  Prop: key Spa:Pod:Object:Param:Route:index (1), flags 00000000\n",
      "    Int 1\n",
      "  Prop: key Spa:Pod:Object:Param:Route:device (3), flags 00000000\n",
      "    Int 1\n",
      "  Prop: key Spa:Pod:Object:Param:Route:props (10), flags 00000000\n",
      "    Object: size 64, type Spa:Pod:Object:Param:Props (262146), id Spa:Enum:ParamId:Route (13)\n",
      "      Prop: key Spa:Pod:Object:Param:Props:mute (65540), flags 00000000\n",
      "        Bool true\n",
      "      Prop: key Spa:Pod:Object:Param:Props:channelVolumes (65544), flags 00000000\n",
      "        Array: child.size 4, child.type Spa:Float\n",
      "          Float 0,015625\n",
      "          Float 0,091125\n",
      "  Prop: key Spa:Pod:Object:Param:Route:save (13), flags 00000000\n",
      "    Bool true\n",
      "('{\"index\": 1, \"device\": 1, \"props\": {\"mute\": false, \"channelVolumes\": '\n",
      " '[0.026999999999999996, 0.091125]}, \"save\": true}')\n",
      "Object: size 160, type Spa:Pod:Object:Param:Route (262153), id Spa:Enum:ParamId:Route (13)\n",
      "  Prop: key Spa:Pod:Object:Param:Route:index (1), flags 00000000\n",
      "    Int 1\n",
      "  Prop: key Spa:Pod:Object:Param:Route:device (3), flags 00000000\n",
      "    Int 1\n",
      "  Prop: key Spa:Pod:Object:Param:Route:props (10), flags 00000000\n",
      "    Object: size 64, type Spa:Pod:Object:Param:Props (262146), id Spa:Enum:ParamId:Route (13)\n",
      "      Prop: key Spa:Pod:Object:Param:Props:mute (65540), flags 00000000\n",
      "        Bool false\n",
      "      Prop: key Spa:Pod:Object:Param:Props:channelVolumes (65544), flags 00000000\n",
      "        Array: child.size 4, child.type Spa:Float\n",
      "          Float 0,027000\n",
      "          Float 0,091125\n",
      "  Prop: key Spa:Pod:Object:Param:Route:save (13), flags 00000000\n",
      "    Bool true\n",
      "('{\"index\": 1, \"device\": 1, \"props\": {\"mute\": true, \"channelVolumes\": '\n",
      " '[0.04287499999999999, 0.091125]}, \"save\": true}')\n",
      "Object: size 160, type Spa:Pod:Object:Param:Route (262153), id Spa:Enum:ParamId:Route (13)\n",
      "  Prop: key Spa:Pod:Object:Param:Route:index (1), flags 00000000\n",
      "    Int 1\n",
      "  Prop: key Spa:Pod:Object:Param:Route:device (3), flags 00000000\n",
      "    Int 1\n",
      "  Prop: key Spa:Pod:Object:Param:Route:props (10), flags 00000000\n",
      "    Object: size 64, type Spa:Pod:Object:Param:Props (262146), id Spa:Enum:ParamId:Route (13)\n",
      "      Prop: key Spa:Pod:Object:Param:Props:mute (65540), flags 00000000\n",
      "        Bool true\n",
      "      Prop: key Spa:Pod:Object:Param:Props:channelVolumes (65544), flags 00000000\n",
      "        Array: child.size 4, child.type Spa:Float\n",
      "          Float 0,042875\n",
      "          Float 0,091125\n",
      "  Prop: key Spa:Pod:Object:Param:Route:save (13), flags 00000000\n",
      "    Bool true\n",
      "('{\"index\": 1, \"device\": 1, \"props\": {\"mute\": false, \"channelVolumes\": '\n",
      " '[0.06400000000000002, 0.091125]}, \"save\": true}')\n",
      "Object: size 160, type Spa:Pod:Object:Param:Route (262153), id Spa:Enum:ParamId:Route (13)\n",
      "  Prop: key Spa:Pod:Object:Param:Route:index (1), flags 00000000\n",
      "    Int 1\n",
      "  Prop: key Spa:Pod:Object:Param:Route:device (3), flags 00000000\n",
      "    Int 1\n",
      "  Prop: key Spa:Pod:Object:Param:Route:props (10), flags 00000000\n",
      "    Object: size 64, type Spa:Pod:Object:Param:Props (262146), id Spa:Enum:ParamId:Route (13)\n",
      "      Prop: key Spa:Pod:Object:Param:Props:mute (65540), flags 00000000\n",
      "        Bool false\n",
      "      Prop: key Spa:Pod:Object:Param:Props:channelVolumes (65544), flags 00000000\n",
      "        Array: child.size 4, child.type Spa:Float\n",
      "          Float 0,064000\n",
      "          Float 0,091125\n",
      "  Prop: key Spa:Pod:Object:Param:Route:save (13), flags 00000000\n",
      "    Bool true\n",
      "('{\"index\": 1, \"device\": 1, \"props\": {\"mute\": true, \"channelVolumes\": '\n",
      " '[0.09112500000000001, 0.091125]}, \"save\": true}')\n",
      "Object: size 160, type Spa:Pod:Object:Param:Route (262153), id Spa:Enum:ParamId:Route (13)\n",
      "  Prop: key Spa:Pod:Object:Param:Route:index (1), flags 00000000\n",
      "    Int 1\n",
      "  Prop: key Spa:Pod:Object:Param:Route:device (3), flags 00000000\n",
      "    Int 1\n",
      "  Prop: key Spa:Pod:Object:Param:Route:props (10), flags 00000000\n",
      "    Object: size 64, type Spa:Pod:Object:Param:Props (262146), id Spa:Enum:ParamId:Route (13)\n",
      "      Prop: key Spa:Pod:Object:Param:Props:mute (65540), flags 00000000\n",
      "        Bool true\n",
      "      Prop: key Spa:Pod:Object:Param:Props:channelVolumes (65544), flags 00000000\n",
      "        Array: child.size 4, child.type Spa:Float\n",
      "          Float 0,091125\n",
      "          Float 0,091125\n",
      "  Prop: key Spa:Pod:Object:Param:Route:save (13), flags 00000000\n",
      "    Bool true\n",
      "('{\"index\": 1, \"device\": 1, \"props\": {\"mute\": false, \"channelVolumes\": [0.125, '\n",
      " '0.091125]}, \"save\": true}')\n",
      "Object: size 160, type Spa:Pod:Object:Param:Route (262153), id Spa:Enum:ParamId:Route (13)\n",
      "  Prop: key Spa:Pod:Object:Param:Route:index (1), flags 00000000\n",
      "    Int 1\n",
      "  Prop: key Spa:Pod:Object:Param:Route:device (3), flags 00000000\n",
      "    Int 1\n",
      "  Prop: key Spa:Pod:Object:Param:Route:props (10), flags 00000000\n",
      "    Object: size 64, type Spa:Pod:Object:Param:Props (262146), id Spa:Enum:ParamId:Route (13)\n",
      "      Prop: key Spa:Pod:Object:Param:Props:mute (65540), flags 00000000\n",
      "        Bool false\n",
      "      Prop: key Spa:Pod:Object:Param:Props:channelVolumes (65544), flags 00000000\n",
      "        Array: child.size 4, child.type Spa:Float\n",
      "          Float 0,125000\n",
      "          Float 0,091125\n",
      "  Prop: key Spa:Pod:Object:Param:Route:save (13), flags 00000000\n",
      "    Bool true\n"
     ]
    }
   ],
   "source": [
    "for i in range(10, 51, 5):\n",
    "    terrible2_set_volume(97, channels={\"FL\"}, linear=i/100, mute=bool(i%2))\n",
    "    sleep(0.125)"
   ]
  },
  {
   "cell_type": "code",
   "execution_count": 156,
   "id": "4bbb35ed-9cba-45d7-82b5-13f82b445d85",
   "metadata": {},
   "outputs": [
    {
     "name": "stdout",
     "output_type": "stream",
     "text": [
      "'{\"index\": 1, \"device\": 1, \"props\": {\"channelVolumes\": [1, 1]}, \"save\": true}'\n",
      "Object: size 136, type Spa:Pod:Object:Param:Route (262153), id Spa:Enum:ParamId:Route (13)\n",
      "  Prop: key Spa:Pod:Object:Param:Route:index (1), flags 00000000\n",
      "    Int 1\n",
      "  Prop: key Spa:Pod:Object:Param:Route:device (3), flags 00000000\n",
      "    Int 1\n",
      "  Prop: key Spa:Pod:Object:Param:Route:props (10), flags 00000000\n",
      "    Object: size 40, type Spa:Pod:Object:Param:Props (262146), id Spa:Enum:ParamId:Route (13)\n",
      "      Prop: key Spa:Pod:Object:Param:Props:channelVolumes (65544), flags 00000000\n",
      "        Array: child.size 4, child.type Spa:Float\n",
      "          Float 1,000000\n",
      "          Float 1,000000\n",
      "  Prop: key Spa:Pod:Object:Param:Route:save (13), flags 00000000\n",
      "    Bool true\n"
     ]
    }
   ],
   "source": [
    "terrible2_set_volume(97, linear=1)"
   ]
  },
  {
   "cell_type": "markdown",
   "id": "f48632b8-ed4b-4cf2-b943-62195cf18232",
   "metadata": {},
   "source": [
    "## Exploring live-updates from `pw-dump`"
   ]
  },
  {
   "cell_type": "code",
   "execution_count": 359,
   "id": "166bc0cc-6374-4c0a-b2aa-7cbb1d57e414",
   "metadata": {},
   "outputs": [],
   "source": [
    "pwd = PWDump()"
   ]
  },
  {
   "cell_type": "code",
   "execution_count": 356,
   "id": "606e94f7-d33b-4771-8abe-823dd99df3fd",
   "metadata": {
    "scrolled": true
   },
   "outputs": [
    {
     "name": "stdout",
     "output_type": "stream",
     "text": [
      "<class 'str'> 5\n"
     ]
    }
   ],
   "source": [
    "for j in pwd:\n",
    "    print(type(j), len(j))"
   ]
  },
  {
   "cell_type": "code",
   "execution_count": 360,
   "id": "8495101f-b380-4224-9d0a-a5c5ee89f766",
   "metadata": {},
   "outputs": [
    {
     "data": {
      "text/plain": [
       "<PWDump('pw-dump') pid=None, fileno=None>"
      ]
     },
     "execution_count": 360,
     "metadata": {},
     "output_type": "execute_result"
    }
   ],
   "source": [
    "pwd"
   ]
  },
  {
   "cell_type": "markdown",
   "id": "7d35fa97-e17a-46b0-b728-f131497109af",
   "metadata": {},
   "source": [
    "## Exploring MIDO"
   ]
  },
  {
   "cell_type": "code",
   "execution_count": 8,
   "id": "16f8a394-7f90-4738-b994-a0ff2be40aed",
   "metadata": {},
   "outputs": [
    {
     "data": {
      "text/plain": [
       "['Midi Through:Midi Through Port-0 14:0',\n",
       " 'Arduino Leonardo:Arduino Leonardo MIDI 1 28:0']"
      ]
     },
     "execution_count": 8,
     "metadata": {},
     "output_type": "execute_result"
    }
   ],
   "source": [
    "mido.get_input_names()"
   ]
  },
  {
   "cell_type": "code",
   "execution_count": 9,
   "id": "1308cec8-3618-422b-a3e2-eec60ded0a75",
   "metadata": {},
   "outputs": [
    {
     "data": {
      "text/plain": [
       "['Midi Through:Midi Through Port-0 14:0',\n",
       " 'Arduino Leonardo:Arduino Leonardo MIDI 1 28:0',\n",
       " 'Client-128:qpwgraph_alsamidi 128:0']"
      ]
     },
     "execution_count": 9,
     "metadata": {},
     "output_type": "execute_result"
    }
   ],
   "source": [
    "mido.get_output_names()"
   ]
  },
  {
   "cell_type": "code",
   "execution_count": 10,
   "id": "56305d83-2a54-40cd-9fb5-48fa829d47e0",
   "metadata": {},
   "outputs": [
    {
     "data": {
      "text/plain": [
       "['Midi Through:Midi Through Port-0 14:0',\n",
       " 'Arduino Leonardo:Arduino Leonardo MIDI 1 28:0']"
      ]
     },
     "execution_count": 10,
     "metadata": {},
     "output_type": "execute_result"
    }
   ],
   "source": [
    "mido.get_ioport_names()"
   ]
  },
  {
   "cell_type": "code",
   "execution_count": 20,
   "id": "be113887-824f-4d07-91bb-6c34fbbba771",
   "metadata": {},
   "outputs": [],
   "source": [
    "def mido_callback(port, message):\n",
    "    print(port, repr(message))"
   ]
  },
  {
   "cell_type": "code",
   "execution_count": 21,
   "id": "dd5e88a3-30d8-45e9-b7d9-482b178fa2da",
   "metadata": {},
   "outputs": [
    {
     "name": "stdout",
     "output_type": "stream",
     "text": [
      "Arduino Message('control_change', channel=0, control=0, value=92, time=0)\n",
      "Arduino Message('control_change', channel=0, control=0, value=93, time=0)\n",
      "Arduino Message('control_change', channel=0, control=0, value=92, time=0)\n",
      "Arduino Message('control_change', channel=0, control=0, value=93, time=0)\n",
      "Arduino Message('control_change', channel=0, control=0, value=93, time=0)\n",
      "Arduino Message('control_change', channel=0, control=0, value=94, time=0)\n",
      "Arduino Message('control_change', channel=0, control=0, value=94, time=0)\n",
      "Arduino Message('control_change', channel=0, control=0, value=95, time=0)\n",
      "Arduino Message('control_change', channel=0, control=0, value=96, time=0)\n",
      "Arduino Message('control_change', channel=0, control=0, value=96, time=0)\n",
      "Arduino Message('control_change', channel=0, control=0, value=97, time=0)\n",
      "Arduino Message('control_change', channel=0, control=0, value=98, time=0)\n",
      "Arduino Message('control_change', channel=0, control=0, value=98, time=0)\n",
      "Arduino Message('control_change', channel=0, control=0, value=99, time=0)\n",
      "Arduino Message('control_change', channel=0, control=0, value=99, time=0)\n",
      "Arduino Message('control_change', channel=0, control=0, value=100, time=0)\n",
      "Arduino Message('control_change', channel=0, control=0, value=101, time=0)\n",
      "Arduino Message('control_change', channel=0, control=0, value=101, time=0)\n",
      "Arduino Message('control_change', channel=0, control=0, value=102, time=0)\n",
      "Arduino Message('control_change', channel=0, control=0, value=102, time=0)\n",
      "Arduino Message('control_change', channel=0, control=0, value=103, time=0)\n"
     ]
    }
   ],
   "source": [
    "pi = mido.open_input(name=\"Arduino Leonardo:Arduino Leonardo MIDI 1 28:0\", callback=partial(mido_callback, \"Arduino\"))"
   ]
  },
  {
   "cell_type": "code",
   "execution_count": 22,
   "id": "cbaff1e3-1b72-4889-9f98-4c4d01f3343c",
   "metadata": {},
   "outputs": [],
   "source": [
    "pi.close()"
   ]
  },
  {
   "cell_type": "markdown",
   "id": "fac8324e-4d2e-4b98-a019-2cece129211b",
   "metadata": {},
   "source": [
    "## Next steps\n",
    "\n",
    "* [ ] Create a git repository.\n",
    "* [ ] Glue together PWState and PWDump.\n",
    "* [ ] Write a nice set_volume function that uses the correct logic depending on the object.\n",
    "* [ ] Write a shitload of unit tests.\n",
    "* [x] Explore MIDI and MIDO.\n",
    "\n",
    "## Older next steps\n",
    "\n",
    "* [ ] Write a terrible function that changes the absolute volume of a certain device (e.g. by id). It's a proof-of-concept that should work perfectly.\n",
    "* [ ] Allow changing it to relative amounts. (Why?)\n",
    "* [x] Allow changing it beyond the 100% bounds.\n",
    "* [ ] Stop and think. And probably create a git repository. Things are starting to work.\n",
    "* [ ] Explore MIDO.\n",
    "* [ ] Listen for MIDI events (even without connecting to anything).\n",
    "* [ ] Figure out how to auto-connect to a certain device.\n",
    "* [ ] Figure out how to listen to creation of MIDI devices, so we can try auto-connecting on-the-fly.\n",
    "* [ ] Celebrate.\n",
    "* [ ] Refactor everything. Try to tidy it up. Try to make it easy to map one thing to another."
   ]
  },
  {
   "cell_type": "markdown",
   "id": "5c751d0b-bbff-4389-8f01-d31b82c17143",
   "metadata": {},
   "source": [
    "## Further steps\n",
    "\n",
    "For each `Node`, find its `device.id`. Then, for the `Device` object, look for each `Route`. Each route goes to a node, or something like that.\n",
    "\n",
    "Having all that information, it should be possible to change the volume:\n",
    "\n",
    "```\n",
    "pw-cli set-param <device-id> Route '{ index: <route-index>, device: <card-profile-device>, props: { mute: false, channelVolumes: [ 0.5, 0.5 ] }, save: true }'\n",
    "```\n",
    "\n",
    "Where stuff inside `props` can be:\n",
    "\n",
    "* channelVolumes\n",
    "* mute\n",
    "* monitorVolumes\n",
    "* monitorMute\n",
    "* And other low-level stuff I don't want to touch (such as latency)\n",
    "\n",
    "---\n",
    "\n",
    "Alternatively, we can try this as well:\n",
    "\n",
    "```\n",
    "pw-cli set-param <node-id> Props '{ mute: false, channelVolumes: [ 0.3, 0.3 ] }'\n",
    "```\n",
    "\n",
    "Which should be much easier and straighforward.\n",
    "\n",
    "### Later steps\n",
    "\n",
    "* Figure out how to listen to MIDI events.\n",
    "* Figure out a good configuation format. Maybe even a GUI (probably not)."
   ]
  },
  {
   "cell_type": "markdown",
   "id": "32834217-33d0-43b7-b8f2-1a89d92ac36a",
   "metadata": {
    "jp-MarkdownHeadingCollapsed": true
   },
   "source": [
    "## Links\n",
    "\n",
    "* WirePlumbler-related:\n",
    "    * https://wiki.archlinux.org/title/WirePlumber#Keyboard_volume_control\n",
    "    * https://unix.stackexchange.com/questions/758970/how-to-check-adjust-sound-volume-from-the-command-line-with-pipewire-pulse , which just suggests `wpctl set-volume @DEFAULT_SINK@ .03-` and `wpctlstatus`\n",
    "    * https://github.com/PipeWire/wireplumber/blob/master/src/tools/wpctl.c\n",
    "    * https://github.com/PipeWire/wireplumber/blob/master/modules/module-mixer-api.c\n",
    "    * https://www.reddit.com/r/swaywm/comments/w3llwx/getting_volume_level_from_pipewire/ , which just suggests `wpctl get-volume @DEFAULT_AUDIO_SINK@` or `@DEFAULT_AUDIO_SOURCE@` for mics.\n",
    "    * Getting a list of devices: https://github.com/PipeWire/wireplumber/blob/master/src/tools/shell-completion/wpctl.zsh#L8-L20\n",
    "* Pure PipeWire:\n",
    "    * https://gitlab.freedesktop.org/pipewire/pipewire/-/wikis/Migrate-PulseAudio#sinksource-port-volumemuteport-latency\n",
    "        * OMG it's so complicated!\n",
    "    * https://github.com/smasher164/pw-volume/blob/main/src/main.rs\n",
    "        * `pw-cli set-param <id> Route {some complicated JSON}`\n",
    "    * https://gitlab.freedesktop.org/pipewire/pipewire/-/issues/1654 non-working Python bindings https://gitlab.com/matpi/pipewire-py\n",
    "* MIDI to control volume:\n",
    "    * https://unix.stackexchange.com/questions/297449/regulate-system-volume-with-midi-controller (no answers yet)\n",
    "    * https://superuser.com/questions/1170136/translating-midi-input-into-computer-keystrokes-on-linux , which uses `aseqdump` with `xdotool`\n",
    "    * https://gitlab.com/enetheru/midi2input , which uses Lua and C++ to convert MIDI to arbitrary inputs.\n",
    "    * https://github.com/Avante-Vangard/AV-MidiMacros , ugh, shell and `xdotool` and a bunch of CSV files.\n",
    "    * https://github.com/omriharel/deej - Custom hardware to do it."
   ]
  }
 ],
 "metadata": {
  "kernelspec": {
   "display_name": "Python 3 (ipykernel)",
   "language": "python",
   "name": "python3"
  },
  "language_info": {
   "codemirror_mode": {
    "name": "ipython",
    "version": 3
   },
   "file_extension": ".py",
   "mimetype": "text/x-python",
   "name": "python",
   "nbconvert_exporter": "python",
   "pygments_lexer": "ipython3",
   "version": "3.11.8"
  }
 },
 "nbformat": 4,
 "nbformat_minor": 5
}
